{
 "cells": [
  {
   "cell_type": "markdown",
   "id": "c5520df4",
   "metadata": {},
   "source": [
    "# Prediction of species using XGBoost Algortihm"
   ]
  },
  {
   "cell_type": "markdown",
   "id": "c9b947ed",
   "metadata": {},
   "source": [
    "## Predict the species of a flower sample based on the sizes of its petals"
   ]
  },
  {
   "cell_type": "code",
   "execution_count": 26,
   "id": "6c71c42a",
   "metadata": {},
   "outputs": [
    {
     "name": "stdout",
     "output_type": "stream",
     "text": [
      "Number of samples are :  150\n",
      "Number of features are :  4\n",
      "Species are :  ['setosa', 'versicolor', 'virginica']\n"
     ]
    }
   ],
   "source": [
    "from sklearn.datasets import load_iris\n",
    "iris = load_iris()\n",
    "\n",
    "no_of_samples, no_of_features = iris.data.shape\n",
    "print(\"Number of samples are : \",no_of_samples)\n",
    "print(\"Number of features are : \",no_of_features)\n",
    "print(\"Species are : \",list(iris.target_names))"
   ]
  },
  {
   "cell_type": "markdown",
   "id": "2f9cc353",
   "metadata": {},
   "source": [
    "### Dividing the dataset into training(20%) and testing sets(80%) \n",
    "###  Referring features (petal sizes) as x and the labels (species) as y"
   ]
  },
  {
   "cell_type": "code",
   "execution_count": 18,
   "id": "1de464a0",
   "metadata": {},
   "outputs": [],
   "source": [
    "from sklearn.model_selection import train_test_split\n",
    "\n",
    "x_train, x_test, y_train, y_test = train_test_split(iris.data, iris.target, test_size = 0.2, random_state = 0)"
   ]
  },
  {
   "cell_type": "markdown",
   "id": "e6cd771b",
   "metadata": {},
   "source": [
    "### Load up XGBoost"
   ]
  },
  {
   "cell_type": "code",
   "execution_count": 19,
   "id": "751c33dd",
   "metadata": {},
   "outputs": [],
   "source": [
    "import xgboost as xgb"
   ]
  },
  {
   "cell_type": "markdown",
   "id": "7bbc93b8",
   "metadata": {},
   "source": [
    "### Converting data  into the DMatrix format"
   ]
  },
  {
   "cell_type": "code",
   "execution_count": 20,
   "id": "d4aaaf6b",
   "metadata": {},
   "outputs": [],
   "source": [
    "train = xgb.DMatrix(x_train, label =y_train)\n",
    "test = xgb.DMatrix(x_test, label = y_test)"
   ]
  },
  {
   "cell_type": "markdown",
   "id": "b1677f17",
   "metadata": {},
   "source": [
    "### Defining hyperparameters using softmax"
   ]
  },
  {
   "cell_type": "code",
   "execution_count": 21,
   "id": "c32b996a",
   "metadata": {},
   "outputs": [],
   "source": [
    "parameters = {'max_depth' : 4, 'eta' : 0.3,'objective': 'multi:softmax', 'num_class': 3}\n",
    "epochs = 10"
   ]
  },
  {
   "cell_type": "markdown",
   "id": "67987e54",
   "metadata": {},
   "source": [
    "### Train the model"
   ]
  },
  {
   "cell_type": "code",
   "execution_count": 22,
   "id": "4e2ce3ed",
   "metadata": {},
   "outputs": [],
   "source": [
    "model = xgb.train(parameters, train, epochs)"
   ]
  },
  {
   "cell_type": "markdown",
   "id": "67b6eaeb",
   "metadata": {},
   "source": [
    "### Predicting the species"
   ]
  },
  {
   "cell_type": "code",
   "execution_count": 23,
   "id": "262d414d",
   "metadata": {},
   "outputs": [],
   "source": [
    "predictions = model.predict(test)"
   ]
  },
  {
   "cell_type": "code",
   "execution_count": 24,
   "id": "580b11aa",
   "metadata": {},
   "outputs": [
    {
     "name": "stdout",
     "output_type": "stream",
     "text": [
      "[2. 1. 0. 2. 0. 2. 0. 1. 1. 1. 2. 1. 1. 1. 1. 0. 1. 1. 0. 0. 2. 1. 0. 0.\n",
      " 2. 0. 0. 1. 1. 0.]\n"
     ]
    }
   ],
   "source": [
    "print(predictions)"
   ]
  },
  {
   "cell_type": "markdown",
   "id": "4d88be90",
   "metadata": {},
   "source": [
    "### Measuring the accuracy on test data"
   ]
  },
  {
   "cell_type": "code",
   "execution_count": 25,
   "id": "c35805de",
   "metadata": {},
   "outputs": [
    {
     "data": {
      "text/plain": [
       "1.0"
      ]
     },
     "execution_count": 25,
     "metadata": {},
     "output_type": "execute_result"
    }
   ],
   "source": [
    "from sklearn.metrics import accuracy_score\n",
    "\n",
    "accuracy_score(y_test, predictions)"
   ]
  },
  {
   "cell_type": "code",
   "execution_count": null,
   "id": "9fb0708a",
   "metadata": {},
   "outputs": [],
   "source": []
  }
 ],
 "metadata": {
  "kernelspec": {
   "display_name": "Python 3 (ipykernel)",
   "language": "python",
   "name": "python3"
  },
  "language_info": {
   "codemirror_mode": {
    "name": "ipython",
    "version": 3
   },
   "file_extension": ".py",
   "mimetype": "text/x-python",
   "name": "python",
   "nbconvert_exporter": "python",
   "pygments_lexer": "ipython3",
   "version": "3.10.9"
  }
 },
 "nbformat": 4,
 "nbformat_minor": 5
}
